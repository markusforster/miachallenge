{
 "cells": [
  {
   "cell_type": "markdown",
   "id": "7482ea16-4aa1-4d5f-840d-2b82fca45a99",
   "metadata": {},
   "source": [
    "# Compound challenge\n",
    "The idea is to generate a trainingset from lowercase version of all all permutation of sub-words from the given compound nouns. Train a model for classification. <br>\n",
    "In the API we eliminate stopwords from the input, lowercase and remove whitespaces. The encoded string is then processed by the classification model."
   ]
  },
  {
   "cell_type": "markdown",
   "id": "e5452221-8a72-4b90-a5cc-9761388d1cb4",
   "metadata": {},
   "source": [
    "## Load pandas library for input of icd data"
   ]
  },
  {
   "cell_type": "code",
   "execution_count": 1,
   "id": "f45a1a34-5b77-4d0a-ace5-e68d68ee9f56",
   "metadata": {},
   "outputs": [
    {
     "name": "stderr",
     "output_type": "stream",
     "text": [
      "/home/markus/Documents/machine_learning/mia_challenge/lib/python3.10/site-packages/tqdm/auto.py:22: TqdmWarning: IProgress not found. Please update jupyter and ipywidgets. See https://ipywidgets.readthedocs.io/en/stable/user_install.html\n",
      "  from .autonotebook import tqdm as notebook_tqdm\n"
     ]
    }
   ],
   "source": [
    "# !pip install -r requirements.txt\n",
    "# !pip install -U tensorflow-gpu\n",
    "import pandas as pd\n",
    "import torch\n",
    "import numpy as np"
   ]
  },
  {
   "cell_type": "markdown",
   "id": "4ddfc9f3-ae17-4d6a-8760-6e449dd5c8da",
   "metadata": {},
   "source": [
    "### Load icd data from csv file"
   ]
  },
  {
   "cell_type": "code",
   "execution_count": 2,
   "id": "08ac1b91-c01e-43c0-b86d-f67248a5b286",
   "metadata": {},
   "outputs": [],
   "source": [
    "df = pd.read_csv('icd.csv', delimiter=';',header=None)"
   ]
  },
  {
   "cell_type": "code",
   "execution_count": 3,
   "id": "9b64a808-6619-4c46-a047-0ef2071544c9",
   "metadata": {},
   "outputs": [
    {
     "data": {
      "text/html": [
       "<div>\n",
       "<style scoped>\n",
       "    .dataframe tbody tr th:only-of-type {\n",
       "        vertical-align: middle;\n",
       "    }\n",
       "\n",
       "    .dataframe tbody tr th {\n",
       "        vertical-align: top;\n",
       "    }\n",
       "\n",
       "    .dataframe thead th {\n",
       "        text-align: right;\n",
       "    }\n",
       "</style>\n",
       "<table border=\"1\" class=\"dataframe\">\n",
       "  <thead>\n",
       "    <tr style=\"text-align: right;\">\n",
       "      <th></th>\n",
       "      <th>0</th>\n",
       "      <th>1</th>\n",
       "    </tr>\n",
       "  </thead>\n",
       "  <tbody>\n",
       "    <tr>\n",
       "      <th>0</th>\n",
       "      <td>Arterienriss</td>\n",
       "      <td>I77.2</td>\n",
       "    </tr>\n",
       "    <tr>\n",
       "      <th>1</th>\n",
       "      <td>Harnblaseninfektion</td>\n",
       "      <td>N30.9</td>\n",
       "    </tr>\n",
       "    <tr>\n",
       "      <th>2</th>\n",
       "      <td>Klaviculafraktur</td>\n",
       "      <td>S42.00</td>\n",
       "    </tr>\n",
       "    <tr>\n",
       "      <th>3</th>\n",
       "      <td>Ovarialzyste</td>\n",
       "      <td>N83.2</td>\n",
       "    </tr>\n",
       "    <tr>\n",
       "      <th>4</th>\n",
       "      <td>Schädelprellung</td>\n",
       "      <td>S00.95</td>\n",
       "    </tr>\n",
       "    <tr>\n",
       "      <th>5</th>\n",
       "      <td>Schenkelhalsfraktur</td>\n",
       "      <td>S72.00</td>\n",
       "    </tr>\n",
       "    <tr>\n",
       "      <th>6</th>\n",
       "      <td>Zungengrundkarzinom</td>\n",
       "      <td>C01</td>\n",
       "    </tr>\n",
       "  </tbody>\n",
       "</table>\n",
       "</div>"
      ],
      "text/plain": [
       "                     0        1\n",
       "0         Arterienriss   I77.2 \n",
       "1  Harnblaseninfektion   N30.9 \n",
       "2     Klaviculafraktur  S42.00 \n",
       "3         Ovarialzyste   N83.2 \n",
       "4      Schädelprellung  S00.95 \n",
       "5  Schenkelhalsfraktur  S72.00 \n",
       "6  Zungengrundkarzinom      C01"
      ]
     },
     "execution_count": 3,
     "metadata": {},
     "output_type": "execute_result"
    }
   ],
   "source": [
    "df"
   ]
  },
  {
   "cell_type": "code",
   "execution_count": 4,
   "id": "db8fc8b3-b33e-4366-ba04-5b273ee8b3fd",
   "metadata": {},
   "outputs": [
    {
     "name": "stdout",
     "output_type": "stream",
     "text": [
      "{'I77.2 ': 0, 'N30.9 ': 1, 'S42.00 ': 2, 'N83.2 ': 3, 'S00.95 ': 4, 'S72.00 ': 5, 'C01': 6}\n"
     ]
    }
   ],
   "source": [
    "label_to_no = {x[1]:i for i,x in enumerate(df.iloc())} \n",
    "print(label_to_no)\n",
    "no_to_label = {i:x[1] for i,x in enumerate(df.iloc())}"
   ]
  },
  {
   "cell_type": "markdown",
   "id": "f291c45f-cee5-4523-a08a-bb9cbd38921b",
   "metadata": {},
   "source": [
    "## Load libraries to split German compounds and for creation of permutations "
   ]
  },
  {
   "cell_type": "code",
   "execution_count": 5,
   "id": "70c3b605-5737-4679-b27d-a67f99db8405",
   "metadata": {},
   "outputs": [],
   "source": [
    "from itertools import permutations\n",
    "from compound_split import char_split\n",
    "import spacy"
   ]
  },
  {
   "cell_type": "markdown",
   "id": "937851f6-ac53-4ab5-90a5-f744a5cb5a72",
   "metadata": {},
   "source": [
    "### 1) Load German language model for spacy\n",
    "### 2) Split each Compound into the 5 most probable sub-words\n",
    "### 3) Generate a dataset containing all permutations of the splitted sub-words with the icd label"
   ]
  },
  {
   "cell_type": "code",
   "execution_count": 6,
   "id": "5fbffecf-18f7-40c9-b549-8a05253636d6",
   "metadata": {},
   "outputs": [
    {
     "name": "stdout",
     "output_type": "stream",
     "text": [
      "Dataset({\n",
      "    features: ['text', 'label'],\n",
      "    num_rows: 70\n",
      "})\n"
     ]
    }
   ],
   "source": [
    "from datasets import load_dataset, Dataset\n",
    "\n",
    "nlp = spacy.load(\"de_core_news_sm\")\n",
    "\n",
    "X = {}\n",
    "\n",
    "for i in df.iloc():\n",
    "    ## Generate the first 5 compund splits\n",
    "    text = [x for x in [' '.join(w[1:]) for w in char_split.split_compound(i[0])][:5]]\n",
    "    label = i[1]\n",
    "    for t in text:\n",
    "        setofwords=[x.lemma_.lower() for x in nlp(t) if not x.is_stop]\n",
    "        perms = list(permutations(setofwords))\n",
    "        sperms = list(''.join(p) for p in perms)\n",
    "        if \"text\" in X:\n",
    "            X[\"text\"] += [str(sp) for sp in sperms]\n",
    "            X[\"label\"] += [int(label_to_no[label]) for sp in sperms]\n",
    "        else:\n",
    "            X[\"text\"] = [str(sp) for sp in sperms]\n",
    "            X[\"label\"] = [int(label_to_no[label]) for sp in sperms]\n",
    "\n",
    "X_data = Dataset.from_dict(X) # Dataset.from_dict(X)\n",
    "print(X_data)"
   ]
  },
  {
   "cell_type": "markdown",
   "id": "c0f4659f-86f4-48bc-bb50-7f9b34ddf1c5",
   "metadata": {},
   "source": [
    "### Load transformer libary from huggingface to use distilbert (German) word model as encoder and decoder (with logits on the last layer)"
   ]
  },
  {
   "cell_type": "code",
   "execution_count": 7,
   "id": "091fcf5d-0df1-4c9f-be1f-266ed8ba810a",
   "metadata": {},
   "outputs": [],
   "source": [
    "from transformers import AutoTokenizer"
   ]
  },
  {
   "cell_type": "code",
   "execution_count": 8,
   "id": "f2079810-94d9-41a4-856c-01a3ca9e2c6b",
   "metadata": {},
   "outputs": [],
   "source": [
    "tokenizer = AutoTokenizer.from_pretrained('distilbert-base-german-cased')"
   ]
  },
  {
   "cell_type": "code",
   "execution_count": 9,
   "id": "0b897ccb-46e2-4f1c-8586-b773bc8bcf38",
   "metadata": {},
   "outputs": [
    {
     "name": "stderr",
     "output_type": "stream",
     "text": [
      "100%|█████████████████████████████████████████████████████████████████████████████████████████████████████████████████████████████████████████████████████████████████████████████████████████████████████████████| 1/1 [00:00<00:00, 71.92ba/s]\n"
     ]
    }
   ],
   "source": [
    "def preprocess_function(x):\n",
    "    return tokenizer(x[\"text\"], truncation=True, max_length=10, padding='max_length')\n",
    "\n",
    "X_train = X_data.map(preprocess_function,batched=True)"
   ]
  },
  {
   "cell_type": "code",
   "execution_count": 10,
   "id": "90f06a26-db5a-4c86-a8ef-eb3534cee691",
   "metadata": {},
   "outputs": [
    {
     "name": "stderr",
     "output_type": "stream",
     "text": [
      "Some weights of the model checkpoint at distilbert-base-german-cased were not used when initializing DistilBertForSequenceClassification: ['vocab_layer_norm.weight', 'vocab_layer_norm.bias', 'vocab_transform.bias', 'vocab_transform.weight', 'vocab_projector.weight', 'vocab_projector.bias']\n",
      "- This IS expected if you are initializing DistilBertForSequenceClassification from the checkpoint of a model trained on another task or with another architecture (e.g. initializing a BertForSequenceClassification model from a BertForPreTraining model).\n",
      "- This IS NOT expected if you are initializing DistilBertForSequenceClassification from the checkpoint of a model that you expect to be exactly identical (initializing a BertForSequenceClassification model from a BertForSequenceClassification model).\n",
      "Some weights of DistilBertForSequenceClassification were not initialized from the model checkpoint at distilbert-base-german-cased and are newly initialized: ['classifier.weight', 'classifier.bias', 'pre_classifier.bias', 'pre_classifier.weight']\n",
      "You should probably TRAIN this model on a down-stream task to be able to use it for predictions and inference.\n"
     ]
    }
   ],
   "source": [
    "from transformers import DataCollatorWithPadding\n",
    "from transformers import AutoModelForSequenceClassification, TrainingArguments, Trainer\n",
    "\n",
    "model = AutoModelForSequenceClassification.from_pretrained(\"distilbert-base-german-cased\", num_labels=7)\n",
    "\n",
    "data_collator = DataCollatorWithPadding(tokenizer=tokenizer)"
   ]
  },
  {
   "cell_type": "code",
   "execution_count": 11,
   "id": "7d762ca3-67ec-4b45-a602-5ec4c9bddc05",
   "metadata": {},
   "outputs": [],
   "source": [
    "training_args = TrainingArguments(\n",
    "    output_dir=\"./results\",\n",
    "    learning_rate=2e-5,\n",
    "    per_device_train_batch_size=16,\n",
    "    per_device_eval_batch_size=16,\n",
    "    num_train_epochs=20,\n",
    "    weight_decay=0.01,\n",
    ")"
   ]
  },
  {
   "cell_type": "code",
   "execution_count": 12,
   "id": "c0c09df3-2f37-4b94-a449-c397c99d7f5b",
   "metadata": {},
   "outputs": [],
   "source": [
    "trainer = Trainer(\n",
    "    model=model,\n",
    "    args=training_args,\n",
    "    train_dataset=X_train,\n",
    "    eval_dataset=X_train,\n",
    "    tokenizer=tokenizer,\n",
    "    data_collator=data_collator,\n",
    ")"
   ]
  },
  {
   "cell_type": "code",
   "execution_count": 13,
   "id": "2a1db1e7-ff23-40c5-922a-61fdfb077485",
   "metadata": {
    "tags": []
   },
   "outputs": [
    {
     "name": "stderr",
     "output_type": "stream",
     "text": [
      "The following columns in the training set  don't have a corresponding argument in `DistilBertForSequenceClassification.forward` and have been ignored: text. If text are not expected by `DistilBertForSequenceClassification.forward`,  you can safely ignore this message.\n",
      "/home/markus/Documents/machine_learning/mia_challenge/lib/python3.10/site-packages/transformers/optimization.py:306: FutureWarning: This implementation of AdamW is deprecated and will be removed in a future version. Use the PyTorch implementation torch.optim.AdamW instead, or set `no_deprecation_warning=True` to disable this warning\n",
      "  warnings.warn(\n",
      "***** Running training *****\n",
      "  Num examples = 70\n",
      "  Num Epochs = 20\n",
      "  Instantaneous batch size per device = 16\n",
      "  Total train batch size (w. parallel, distributed & accumulation) = 16\n",
      "  Gradient Accumulation steps = 1\n",
      "  Total optimization steps = 100\n"
     ]
    },
    {
     "data": {
      "text/html": [
       "\n",
       "    <div>\n",
       "      \n",
       "      <progress value='100' max='100' style='width:300px; height:20px; vertical-align: middle;'></progress>\n",
       "      [100/100 00:02, Epoch 20/20]\n",
       "    </div>\n",
       "    <table border=\"1\" class=\"dataframe\">\n",
       "  <thead>\n",
       " <tr style=\"text-align: left;\">\n",
       "      <th>Step</th>\n",
       "      <th>Training Loss</th>\n",
       "    </tr>\n",
       "  </thead>\n",
       "  <tbody>\n",
       "  </tbody>\n",
       "</table><p>"
      ],
      "text/plain": [
       "<IPython.core.display.HTML object>"
      ]
     },
     "metadata": {},
     "output_type": "display_data"
    },
    {
     "name": "stderr",
     "output_type": "stream",
     "text": [
      "\n",
      "\n",
      "Training completed. Do not forget to share your model on huggingface.co/models =)\n",
      "\n",
      "\n"
     ]
    },
    {
     "data": {
      "text/plain": [
       "TrainOutput(global_step=100, training_loss=1.051928253173828, metrics={'train_runtime': 2.9922, 'train_samples_per_second': 467.879, 'train_steps_per_second': 33.42, 'total_flos': 3622478412000.0, 'train_loss': 1.051928253173828, 'epoch': 20.0})"
      ]
     },
     "execution_count": 13,
     "metadata": {},
     "output_type": "execute_result"
    }
   ],
   "source": [
    "trainer.train()"
   ]
  },
  {
   "cell_type": "code",
   "execution_count": 14,
   "id": "90b99f1a-c1b9-4fa1-9695-91c6c83ce9e8",
   "metadata": {},
   "outputs": [
    {
     "data": {
      "text/plain": [
       "{'input_ids': tensor([[  102,  9710,   573,   125, 26266, 27533,   223,  7504, 27316,   103]],\n",
       "       device='cuda:0'), 'attention_mask': tensor([[1, 1, 1, 1, 1, 1, 1, 1, 1, 1]], device='cuda:0')}"
      ]
     },
     "execution_count": 14,
     "metadata": {},
     "output_type": "execute_result"
    }
   ],
   "source": [
    "import torch\n",
    "token = tokenizer(\"riss der arterie im rechten arm\", max_length=10, padding='max_length',truncation=True,return_tensors='pt')\n",
    "labels = torch.tensor([1]).unsqueeze(0)\n",
    "labels = labels.to(device='cuda')\n",
    "token = token.to(device='cuda')\n",
    "token"
   ]
  },
  {
   "cell_type": "code",
   "execution_count": 15,
   "id": "cb55b480-00c1-46fe-87bb-2e7a575aee3b",
   "metadata": {},
   "outputs": [
    {
     "name": "stdout",
     "output_type": "stream",
     "text": [
      "SequenceClassifierOutput(loss=tensor(1.8028, device='cuda:0', grad_fn=<NllLossBackward0>), logits=tensor([[ 0.7663,  0.2142, -0.4264, -0.7119,  0.3918, -0.4243, -0.1656]],\n",
      "       device='cuda:0', grad_fn=<AddmmBackward0>), hidden_states=None, attentions=None)\n",
      "tensor([[0.2863, 0.1648, 0.0869, 0.0653, 0.1969, 0.0871, 0.1128]],\n",
      "       device='cuda:0', grad_fn=<SoftmaxBackward0>)\n"
     ]
    },
    {
     "data": {
      "text/plain": [
       "'I77.2 '"
      ]
     },
     "execution_count": 15,
     "metadata": {},
     "output_type": "execute_result"
    }
   ],
   "source": [
    "model.eval()\n",
    "output = model(**token,labels=labels)\n",
    "print(output)\n",
    "print(torch.softmax(output.logits,1))\n",
    "no_to_label[(np.argmax(output.logits.detach().cpu().numpy()))]"
   ]
  },
  {
   "cell_type": "code",
   "execution_count": 16,
   "id": "0a04a850-65e6-4845-a097-4558d3ae7334",
   "metadata": {},
   "outputs": [],
   "source": [
    "torch.save(model,'./icd.pt')"
   ]
  },
  {
   "cell_type": "markdown",
   "id": "8d9b1970-1a8f-40ef-a50d-d5e8824481cc",
   "metadata": {},
   "source": []
  }
 ],
 "metadata": {
  "kernelspec": {
   "display_name": "Python 3 (ipykernel)",
   "language": "python",
   "name": "python3"
  },
  "language_info": {
   "codemirror_mode": {
    "name": "ipython",
    "version": 3
   },
   "file_extension": ".py",
   "mimetype": "text/x-python",
   "name": "python",
   "nbconvert_exporter": "python",
   "pygments_lexer": "ipython3",
   "version": "3.10.4"
  }
 },
 "nbformat": 4,
 "nbformat_minor": 5
}
