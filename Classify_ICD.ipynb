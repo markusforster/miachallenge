{
 "cells": [
  {
   "cell_type": "code",
   "execution_count": 2,
   "id": "eb486e2b-5115-46e9-a0ad-824f639e3a49",
   "metadata": {},
   "outputs": [],
   "source": [
    "# !pip install pandas\n",
    "import pandas as pd"
   ]
  },
  {
   "cell_type": "code",
   "execution_count": 9,
   "id": "08ac1b91-c01e-43c0-b86d-f67248a5b286",
   "metadata": {},
   "outputs": [],
   "source": [
    "df = pd.read_csv('icd.csv', delimiter=';',header=None)"
   ]
  },
  {
   "cell_type": "code",
   "execution_count": 7,
   "id": "9b64a808-6619-4c46-a047-0ef2071544c9",
   "metadata": {},
   "outputs": [
    {
     "data": {
      "text/html": [
       "<div>\n",
       "<style scoped>\n",
       "    .dataframe tbody tr th:only-of-type {\n",
       "        vertical-align: middle;\n",
       "    }\n",
       "\n",
       "    .dataframe tbody tr th {\n",
       "        vertical-align: top;\n",
       "    }\n",
       "\n",
       "    .dataframe thead th {\n",
       "        text-align: right;\n",
       "    }\n",
       "</style>\n",
       "<table border=\"1\" class=\"dataframe\">\n",
       "  <thead>\n",
       "    <tr style=\"text-align: right;\">\n",
       "      <th></th>\n",
       "      <th>0</th>\n",
       "      <th>1</th>\n",
       "    </tr>\n",
       "  </thead>\n",
       "  <tbody>\n",
       "    <tr>\n",
       "      <th>0</th>\n",
       "      <td>Arterienriss</td>\n",
       "      <td>I77.2</td>\n",
       "    </tr>\n",
       "    <tr>\n",
       "      <th>1</th>\n",
       "      <td>Harnblaseninfektion</td>\n",
       "      <td>N30.9</td>\n",
       "    </tr>\n",
       "    <tr>\n",
       "      <th>2</th>\n",
       "      <td>Klaviculafraktur</td>\n",
       "      <td>S42.00</td>\n",
       "    </tr>\n",
       "    <tr>\n",
       "      <th>3</th>\n",
       "      <td>Ovarialzyste</td>\n",
       "      <td>N83.2</td>\n",
       "    </tr>\n",
       "    <tr>\n",
       "      <th>4</th>\n",
       "      <td>Schädelprellung</td>\n",
       "      <td>S00.95</td>\n",
       "    </tr>\n",
       "    <tr>\n",
       "      <th>5</th>\n",
       "      <td>Schenkelhalsfraktur</td>\n",
       "      <td>S72.00</td>\n",
       "    </tr>\n",
       "    <tr>\n",
       "      <th>6</th>\n",
       "      <td>Zungengrundkarzinom</td>\n",
       "      <td>C01</td>\n",
       "    </tr>\n",
       "  </tbody>\n",
       "</table>\n",
       "</div>"
      ],
      "text/plain": [
       "                     0        1\n",
       "0         Arterienriss   I77.2 \n",
       "1  Harnblaseninfektion   N30.9 \n",
       "2     Klaviculafraktur  S42.00 \n",
       "3         Ovarialzyste   N83.2 \n",
       "4      Schädelprellung  S00.95 \n",
       "5  Schenkelhalsfraktur  S72.00 \n",
       "6  Zungengrundkarzinom      C01"
      ]
     },
     "execution_count": 7,
     "metadata": {},
     "output_type": "execute_result"
    }
   ],
   "source": [
    "df"
   ]
  },
  {
   "cell_type": "code",
   "execution_count": null,
   "id": "70c3b605-5737-4679-b27d-a67f99db8405",
   "metadata": {},
   "outputs": [],
   "source": []
  }
 ],
 "metadata": {
  "kernelspec": {
   "display_name": "Python 3 (ipykernel)",
   "language": "python",
   "name": "python3"
  },
  "language_info": {
   "codemirror_mode": {
    "name": "ipython",
    "version": 3
   },
   "file_extension": ".py",
   "mimetype": "text/x-python",
   "name": "python",
   "nbconvert_exporter": "python",
   "pygments_lexer": "ipython3",
   "version": "3.10.4"
  }
 },
 "nbformat": 4,
 "nbformat_minor": 5
}
