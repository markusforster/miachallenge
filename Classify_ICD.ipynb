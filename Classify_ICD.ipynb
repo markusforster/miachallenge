{
 "cells": [
  {
   "cell_type": "markdown",
   "id": "7482ea16-4aa1-4d5f-840d-2b82fca45a99",
   "metadata": {},
   "source": [
    "# Compound challenge\n",
    "The idea is to generate a trainingset from lowercase of all all permutation of sub-words from the given compound nouns. Train a model for classification. <br>\n",
    "In the API we eliminate stopwords from the input, lowercase and remove whitespaces. The encoded string is then processed by the classification model."
   ]
  },
  {
   "cell_type": "markdown",
   "id": "e5452221-8a72-4b90-a5cc-9761388d1cb4",
   "metadata": {},
   "source": [
    "## Load pandas library for input of icd data"
   ]
  },
  {
   "cell_type": "code",
   "execution_count": 14,
   "id": "f45a1a34-5b77-4d0a-ace5-e68d68ee9f56",
   "metadata": {},
   "outputs": [],
   "source": [
    "# !pip install -q -r requirements.txt\n",
    "import pandas as pd"
   ]
  },
  {
   "cell_type": "markdown",
   "id": "4ddfc9f3-ae17-4d6a-8760-6e449dd5c8da",
   "metadata": {},
   "source": [
    "### Load icd data from csv file"
   ]
  },
  {
   "cell_type": "code",
   "execution_count": 11,
   "id": "08ac1b91-c01e-43c0-b86d-f67248a5b286",
   "metadata": {},
   "outputs": [],
   "source": [
    "df = pd.read_csv('icd.csv', delimiter=';',header=None)"
   ]
  },
  {
   "cell_type": "code",
   "execution_count": 12,
   "id": "9b64a808-6619-4c46-a047-0ef2071544c9",
   "metadata": {},
   "outputs": [
    {
     "data": {
      "text/html": [
       "<div>\n",
       "<style scoped>\n",
       "    .dataframe tbody tr th:only-of-type {\n",
       "        vertical-align: middle;\n",
       "    }\n",
       "\n",
       "    .dataframe tbody tr th {\n",
       "        vertical-align: top;\n",
       "    }\n",
       "\n",
       "    .dataframe thead th {\n",
       "        text-align: right;\n",
       "    }\n",
       "</style>\n",
       "<table border=\"1\" class=\"dataframe\">\n",
       "  <thead>\n",
       "    <tr style=\"text-align: right;\">\n",
       "      <th></th>\n",
       "      <th>0</th>\n",
       "      <th>1</th>\n",
       "    </tr>\n",
       "  </thead>\n",
       "  <tbody>\n",
       "    <tr>\n",
       "      <th>0</th>\n",
       "      <td>Arterienriss</td>\n",
       "      <td>I77.2</td>\n",
       "    </tr>\n",
       "    <tr>\n",
       "      <th>1</th>\n",
       "      <td>Harnblaseninfektion</td>\n",
       "      <td>N30.9</td>\n",
       "    </tr>\n",
       "    <tr>\n",
       "      <th>2</th>\n",
       "      <td>Klaviculafraktur</td>\n",
       "      <td>S42.00</td>\n",
       "    </tr>\n",
       "    <tr>\n",
       "      <th>3</th>\n",
       "      <td>Ovarialzyste</td>\n",
       "      <td>N83.2</td>\n",
       "    </tr>\n",
       "    <tr>\n",
       "      <th>4</th>\n",
       "      <td>Schädelprellung</td>\n",
       "      <td>S00.95</td>\n",
       "    </tr>\n",
       "    <tr>\n",
       "      <th>5</th>\n",
       "      <td>Schenkelhalsfraktur</td>\n",
       "      <td>S72.00</td>\n",
       "    </tr>\n",
       "    <tr>\n",
       "      <th>6</th>\n",
       "      <td>Zungengrundkarzinom</td>\n",
       "      <td>C01</td>\n",
       "    </tr>\n",
       "  </tbody>\n",
       "</table>\n",
       "</div>"
      ],
      "text/plain": [
       "                     0        1\n",
       "0         Arterienriss   I77.2 \n",
       "1  Harnblaseninfektion   N30.9 \n",
       "2     Klaviculafraktur  S42.00 \n",
       "3         Ovarialzyste   N83.2 \n",
       "4      Schädelprellung  S00.95 \n",
       "5  Schenkelhalsfraktur  S72.00 \n",
       "6  Zungengrundkarzinom      C01"
      ]
     },
     "execution_count": 12,
     "metadata": {},
     "output_type": "execute_result"
    }
   ],
   "source": [
    "df"
   ]
  },
  {
   "cell_type": "markdown",
   "id": "f291c45f-cee5-4523-a08a-bb9cbd38921b",
   "metadata": {},
   "source": [
    "## Load libraries to split German compunds and for creation of permutations "
   ]
  },
  {
   "cell_type": "code",
   "execution_count": 35,
   "id": "70c3b605-5737-4679-b27d-a67f99db8405",
   "metadata": {},
   "outputs": [
    {
     "name": "stderr",
     "output_type": "stream",
     "text": [
      "/home/markus/Documents/machine_learning/mia_challenge/lib/python3.10/site-packages/tqdm/auto.py:22: TqdmWarning: IProgress not found. Please update jupyter and ipywidgets. See https://ipywidgets.readthedocs.io/en/stable/user_install.html\n",
      "  from .autonotebook import tqdm as notebook_tqdm\n"
     ]
    }
   ],
   "source": [
    "from itertools import permutations\n",
    "from compound_split import char_split\n",
    "import spacy"
   ]
  },
  {
   "cell_type": "markdown",
   "id": "937851f6-ac53-4ab5-90a5-f744a5cb5a72",
   "metadata": {},
   "source": [
    "### 1) Load German language model for spacy\n",
    "### 2) Split each Compound into the 5 most probable sub-words\n",
    "### 3) Generate a dataset containing all permutations of the splitted sub-words with the icd label"
   ]
  },
  {
   "cell_type": "code",
   "execution_count": 53,
   "id": "5fbffecf-18f7-40c9-b549-8a05253636d6",
   "metadata": {},
   "outputs": [
    {
     "name": "stdout",
     "output_type": "stream",
     "text": [
      "[['arterieriss', 'I77.2 '], ['rissarterie', 'I77.2 '], ['arterienriss', 'I77.2 '], ['erienrissart', 'I77.2 '], ['arterienriss', 'I77.2 '], ['ienrissarter', 'I77.2 '], ['arterienriss', 'I77.2 '], ['rienrissarte', 'I77.2 '], ['arterienriss', 'I77.2 '], ['nrissarterie', 'I77.2 '], ['harnblaseinfektion', 'N30.9 '], ['infektionharnblase', 'N30.9 '], ['harnblaseninfektion', 'N30.9 '], ['blaseninfektionharn', 'N30.9 '], ['harnblaseninfektion', 'N30.9 '], ['nblaseninfektionhar', 'N30.9 '], ['harnblaseninfektion', 'N30.9 '], ['ninfektionharnblase', 'N30.9 '], ['harnblaseninfektion', 'N30.9 '], ['ionharnblaseninfekt', 'N30.9 '], ['klaviculafraktur', 'S42.00 '], ['frakturklavicula', 'S42.00 '], ['klaviculafraktur', 'S42.00 '], ['turklaviculafrak', 'S42.00 '], ['klaviculafraktur', 'S42.00 '], ['iculafrakturklav', 'S42.00 '], ['klaviculafraktur', 'S42.00 '], ['viculafrakturkla', 'S42.00 '], ['klaviculafraktur', 'S42.00 '], ['lafrakturklavicu', 'S42.00 '], ['ovarialzyste', 'N83.2 '], ['rialzysteova', 'N83.2 '], ['ovarialzyste', 'N83.2 '], ['ialzysteovar', 'N83.2 '], ['ovarialzyste', 'N83.2 '], ['steovarialzy', 'N83.2 '], ['ovarialzyste', 'N83.2 '], ['zysteovarial', 'N83.2 '], ['ovarialzyste', 'N83.2 '], ['alzysteovari', 'N83.2 '], ['schädelprellung', 'S00.95 '], ['prellungschädel', 'S00.95 '], ['schädelprellung', 'S00.95 '], ['lungschädelprel', 'S00.95 '], ['schädelprellung', 'S00.95 '], ['ungschädelprell', 'S00.95 '], ['schädelprellung', 'S00.95 '], ['ädelprellungsch', 'S00.95 '], ['schädelprellung', 'S00.95 '], ['ellungschädelpr', 'S00.95 '], ['schenkelhalsfraktur', 'S72.00 '], ['kelhalsfrakturschen', 'S72.00 '], ['schenkelhalsfraktur', 'S72.00 '], ['halsfrakturschenkel', 'S72.00 '], ['schenkelhalsfraktur', 'S72.00 '], ['frakturschenkelhals', 'S72.00 '], ['schenkelhalsfraktur', 'S72.00 '], ['enkelhalsfraktursch', 'S72.00 '], ['schenkelhalsfraktur', 'S72.00 '], ['nkelhalsfraktursche', 'S72.00 '], ['zungegrundkarzinom', 'C01'], ['grundkarzinomzunge', 'C01'], ['zungengrundkarzinom', 'C01'], ['karzinomzungengrund', 'C01'], ['zungengrundkarzinom', 'C01'], ['engrundkarzinomzung', 'C01'], ['zungengrundkarzinom', 'C01'], ['gengrundkarzinomzun', 'C01'], ['zungengrundkarzinom', 'C01'], ['nomzungengrundkarzi', 'C01']]\n"
     ]
    }
   ],
   "source": [
    "nlp = spacy.load(\"de_core_news_sm\")\n",
    "\n",
    "X = []\n",
    "\n",
    "for i in df.iloc():\n",
    "    # print(i[0])\n",
    "    ## Generate the first 5 compund splits\n",
    "    text = [x for x in [' '.join(w[1:]) for w in char_split.split_compound(i[0])][:5]]\n",
    "    label = i[1]\n",
    "    # print(text)\n",
    "    for t in text:\n",
    "        setofwords=[x.lemma_.lower() for x in nlp(t) if not x.is_stop]\n",
    "        perms = list(permutations(setofwords))\n",
    "        sperms = list(''.join(p) for p in perms)\n",
    "        X += [[sp,label]  for sp in sperms]\n",
    "print(X)"
   ]
  },
  {
   "cell_type": "code",
   "execution_count": null,
   "id": "8bc6c6c7-0961-4439-a89e-3b3580718abd",
   "metadata": {},
   "outputs": [],
   "source": []
  }
 ],
 "metadata": {
  "kernelspec": {
   "display_name": "Python 3 (ipykernel)",
   "language": "python",
   "name": "python3"
  },
  "language_info": {
   "codemirror_mode": {
    "name": "ipython",
    "version": 3
   },
   "file_extension": ".py",
   "mimetype": "text/x-python",
   "name": "python",
   "nbconvert_exporter": "python",
   "pygments_lexer": "ipython3",
   "version": "3.10.4"
  }
 },
 "nbformat": 4,
 "nbformat_minor": 5
}
